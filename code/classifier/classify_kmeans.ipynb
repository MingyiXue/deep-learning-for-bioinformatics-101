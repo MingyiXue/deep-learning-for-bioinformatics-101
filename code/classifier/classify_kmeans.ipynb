{
 "cells": [
  {
   "cell_type": "markdown",
   "metadata": {},
   "source": [
    "## Import Packages"
   ]
  },
  {
   "cell_type": "code",
   "execution_count": 6,
   "metadata": {},
   "outputs": [
    {
     "ename": "ModuleNotFoundError",
     "evalue": "No module named 'utils.kmeans'",
     "output_type": "error",
     "traceback": [
      "\u001b[0;31m---------------------------------------------------------------------------\u001b[0m",
      "\u001b[0;31mModuleNotFoundError\u001b[0m                       Traceback (most recent call last)",
      "Cell \u001b[0;32mIn[6], line 18\u001b[0m\n\u001b[1;32m     16\u001b[0m util_dir \u001b[38;5;241m=\u001b[39m os\u001b[38;5;241m.\u001b[39mpath\u001b[38;5;241m.\u001b[39mjoin(os\u001b[38;5;241m.\u001b[39mpath\u001b[38;5;241m.\u001b[39mdirname(curr_dir))\n\u001b[1;32m     17\u001b[0m sys\u001b[38;5;241m.\u001b[39mpath\u001b[38;5;241m.\u001b[39mappend(util_dir)\n\u001b[0;32m---> 18\u001b[0m \u001b[38;5;28;01mfrom\u001b[39;00m \u001b[38;5;21;01mutils\u001b[39;00m\u001b[38;5;21;01m.\u001b[39;00m\u001b[38;5;21;01mkmeans\u001b[39;00m \u001b[38;5;28;01mimport\u001b[39;00m KMeans\n",
      "\u001b[0;31mModuleNotFoundError\u001b[0m: No module named 'utils.kmeans'"
     ]
    }
   ],
   "source": [
    "import os\n",
    "import rdkit.Chem as Chem\n",
    "import rdkit.Chem.AllChem as AllChem\n",
    "from rdkit.Chem import PandasTools\n",
    "import rdkit.Chem.Fragments as Fragments\n",
    "\n",
    "import random\n",
    "import numpy as np\n",
    "import matplotlib.pyplot as plt\n",
    "\n",
    "import sys\n",
    "curr_dir = os.path.abspath(\".\")\n",
    "util_dir = os.path.join(os.path.dirname(curr_dir))\n",
    "sys.path.append(util_dir)\n",
    "from utils.kmeans import KMeans"
   ]
  },
  {
   "cell_type": "markdown",
   "metadata": {},
   "source": [
    "## Curate Dataset"
   ]
  },
  {
   "cell_type": "code",
   "execution_count": 2,
   "metadata": {},
   "outputs": [
    {
     "name": "stderr",
     "output_type": "stream",
     "text": [
      "[10:37:15] Warning: ambiguous stereochemistry - overlapping neighbors  - at atom 13 ignored\n"
     ]
    },
    {
     "data": {
      "text/html": [
       "<div>\n",
       "<style scoped>\n",
       "    .dataframe tbody tr th:only-of-type {\n",
       "        vertical-align: middle;\n",
       "    }\n",
       "\n",
       "    .dataframe tbody tr th {\n",
       "        vertical-align: top;\n",
       "    }\n",
       "\n",
       "    .dataframe thead th {\n",
       "        text-align: right;\n",
       "    }\n",
       "</style>\n",
       "<table border=\"1\" class=\"dataframe\">\n",
       "  <thead>\n",
       "    <tr style=\"text-align: right;\">\n",
       "      <th></th>\n",
       "      <th>pKa</th>\n",
       "      <th>marvin_pKa</th>\n",
       "      <th>marvin_atom</th>\n",
       "      <th>marvin_pKa_type</th>\n",
       "      <th>original_dataset</th>\n",
       "      <th>ID</th>\n",
       "      <th>ROMol</th>\n",
       "    </tr>\n",
       "  </thead>\n",
       "  <tbody>\n",
       "    <tr>\n",
       "      <th>0</th>\n",
       "      <td>6.21</td>\n",
       "      <td>6.09</td>\n",
       "      <td>10</td>\n",
       "      <td>basic</td>\n",
       "      <td>['chembl25']</td>\n",
       "      <td>1702768</td>\n",
       "      <td>&lt;rdkit.Chem.rdchem.Mol object at 0x7f8259d81690&gt;</td>\n",
       "    </tr>\n",
       "    <tr>\n",
       "      <th>1</th>\n",
       "      <td>7.46</td>\n",
       "      <td>8.2</td>\n",
       "      <td>9</td>\n",
       "      <td>basic</td>\n",
       "      <td>['chembl25']</td>\n",
       "      <td>273537</td>\n",
       "      <td>&lt;rdkit.Chem.rdchem.Mol object at 0x7f8259d820a0&gt;</td>\n",
       "    </tr>\n",
       "    <tr>\n",
       "      <th>2</th>\n",
       "      <td>4.2</td>\n",
       "      <td>3.94</td>\n",
       "      <td>9</td>\n",
       "      <td>basic</td>\n",
       "      <td>['datawarrior']</td>\n",
       "      <td>7175</td>\n",
       "      <td>&lt;rdkit.Chem.rdchem.Mol object at 0x7f8259d82110&gt;</td>\n",
       "    </tr>\n",
       "    <tr>\n",
       "      <th>3</th>\n",
       "      <td>3.73</td>\n",
       "      <td>5.91</td>\n",
       "      <td>8</td>\n",
       "      <td>acidic</td>\n",
       "      <td>['datawarrior']</td>\n",
       "      <td>998</td>\n",
       "      <td>&lt;rdkit.Chem.rdchem.Mol object at 0x7f8259d82180&gt;</td>\n",
       "    </tr>\n",
       "    <tr>\n",
       "      <th>4</th>\n",
       "      <td>11.0</td>\n",
       "      <td>8.94</td>\n",
       "      <td>13</td>\n",
       "      <td>basic</td>\n",
       "      <td>['chembl25']</td>\n",
       "      <td>560562</td>\n",
       "      <td>&lt;rdkit.Chem.rdchem.Mol object at 0x7f8259d821f0&gt;</td>\n",
       "    </tr>\n",
       "  </tbody>\n",
       "</table>\n",
       "</div>"
      ],
      "text/plain": [
       "    pKa marvin_pKa marvin_atom marvin_pKa_type original_dataset       ID  \\\n",
       "0  6.21       6.09          10           basic     ['chembl25']  1702768   \n",
       "1  7.46        8.2           9           basic     ['chembl25']   273537   \n",
       "2   4.2       3.94           9           basic  ['datawarrior']     7175   \n",
       "3  3.73       5.91           8          acidic  ['datawarrior']      998   \n",
       "4  11.0       8.94          13           basic     ['chembl25']   560562   \n",
       "\n",
       "                                              ROMol  \n",
       "0  <rdkit.Chem.rdchem.Mol object at 0x7f8259d81690>  \n",
       "1  <rdkit.Chem.rdchem.Mol object at 0x7f8259d820a0>  \n",
       "2  <rdkit.Chem.rdchem.Mol object at 0x7f8259d82110>  \n",
       "3  <rdkit.Chem.rdchem.Mol object at 0x7f8259d82180>  \n",
       "4  <rdkit.Chem.rdchem.Mol object at 0x7f8259d821f0>  "
      ]
     },
     "execution_count": 2,
     "metadata": {},
     "output_type": "execute_result"
    }
   ],
   "source": [
    "infile = \"../data/combined_training_datasets_unique.sdf\"\n",
    "name = os.path.splitext(os.path.basename(infile))[0]\n",
    "\n",
    "all_df = PandasTools.LoadSDF(infile)\n",
    "all_df.head()"
   ]
  },
  {
   "cell_type": "code",
   "execution_count": 3,
   "metadata": {},
   "outputs": [
    {
     "name": "stdout",
     "output_type": "stream",
     "text": [
      "Number of fragment patterns: 85\n"
     ]
    }
   ],
   "source": [
    "patterns = []\n",
    "for patstr in dir(Chem.Fragments):\n",
    "    if patstr.startswith(\"fr\"):\n",
    "        patterns.append(patstr)\n",
    "print(f\"Number of fragment patterns: {len(patterns)}\")\n",
    "\n",
    "PATTERNS = [getattr(Fragments, patstr) for patstr in patterns]\n",
    "\n",
    "def featurize(mol):\n",
    "    counts = [pattern(mol) for pattern in PATTERNS]\n",
    "    return counts\n",
    "\n",
    "X = []\n",
    "Y = []\n",
    "\n",
    "for idx, row in all_df.iterrows():\n",
    "    x = featurize(row[\"ROMol\"])\n",
    "    X.append(x)\n",
    "    Y.append(row[\"pKa\"])\n",
    "X = np.array(X, dtype=float)\n",
    "Y = np.array(Y, dtype=float).reshape(-1, 1)\n",
    "Y = np.where(Y<7, 1, 0)"
   ]
  },
  {
   "cell_type": "markdown",
   "metadata": {},
   "source": [
    "## Hyperparameters"
   ]
  },
  {
   "cell_type": "code",
   "execution_count": 4,
   "metadata": {},
   "outputs": [],
   "source": [
    "# for reproduce purposes\n",
    "SEED = 0\n",
    "random.seed(SEED)\n",
    "np.random.seed(SEED)\n",
    "torch.manual_seed(SEED)\n",
    "\n",
    "datadir = \".\"\n",
    "ratio = 0.1\n",
    "device = \"cuda\" if torch.cuda.is_available() else \"cpu\"\n",
    "\n",
    "nsamples = X.shape[0]\n",
    "ndim = X.shape[1]"
   ]
  },
  {
   "cell_type": "markdown",
   "metadata": {},
   "source": [
    "## Split dataset"
   ]
  },
  {
   "cell_type": "code",
   "execution_count": 5,
   "metadata": {},
   "outputs": [],
   "source": [
    "def random_split(X, Y, ratio):\n",
    "    nsamples = X.shape[0]\n",
    "    val_size = int(nsamples*ratio)\n",
    "    val_indices = np.random.choice(nsamples, val_size, replace=False)\n",
    "    train_indices = set(range(nsamples)) - set(val_indices.tolist())\n",
    "    train_indices = list(train_indices)\n",
    "    X_train, Y_train = X[train_indices], Y[train_indices]\n",
    "    X_test, Y_test = X[val_indices], Y[val_indices]\n",
    "    return (X_train, Y_train), (X_test, Y_test)"
   ]
  },
  {
   "cell_type": "markdown",
   "metadata": {},
   "source": [
    "## Model"
   ]
  },
  {
   "cell_type": "code",
   "execution_count": null,
   "metadata": {},
   "outputs": [],
   "source": []
  },
  {
   "cell_type": "markdown",
   "metadata": {},
   "source": [
    "## Training"
   ]
  },
  {
   "cell_type": "code",
   "execution_count": null,
   "metadata": {},
   "outputs": [],
   "source": []
  },
  {
   "cell_type": "markdown",
   "metadata": {},
   "source": [
    "## Analysis"
   ]
  },
  {
   "cell_type": "code",
   "execution_count": null,
   "metadata": {},
   "outputs": [],
   "source": []
  }
 ],
 "metadata": {
  "kernelspec": {
   "display_name": "sphinx_tutorial",
   "language": "python",
   "name": "python3"
  },
  "language_info": {
   "codemirror_mode": {
    "name": "ipython",
    "version": 3
   },
   "file_extension": ".py",
   "mimetype": "text/x-python",
   "name": "python",
   "nbconvert_exporter": "python",
   "pygments_lexer": "ipython3",
   "version": "3.10.14"
  }
 },
 "nbformat": 4,
 "nbformat_minor": 2
}
