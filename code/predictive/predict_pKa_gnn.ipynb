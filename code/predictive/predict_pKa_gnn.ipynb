{
 "cells": [
  {
   "cell_type": "markdown",
   "metadata": {},
   "source": [
    "## Import Packages"
   ]
  },
  {
   "cell_type": "code",
   "execution_count": 1,
   "metadata": {},
   "outputs": [],
   "source": [
    "import os\n",
    "import pickle\n",
    "import rdkit.Chem as Chem\n",
    "import rdkit.Chem.AllChem as AllChem\n",
    "from rdkit.Chem import PandasTools\n",
    "\n",
    "import random\n",
    "import pickle\n",
    "import numpy as np\n",
    "import matplotlib.pyplot as plt\n",
    "import torch\n",
    "import torch.nn as nn\n",
    "from torch_geometric.data import Data\n",
    "from torch_geometric.data import Dataset\n",
    "from torch_geometric.loader import DataLoader\n",
    "\n",
    "import sys\n",
    "curr_dir = os.path.abspath(\".\")\n",
    "util_dir = os.path.join(os.path.dirname(curr_dir))\n",
    "sys.path.append(util_dir)\n",
    "from utils.gnn_models import GCNModel as Model"
   ]
  },
  {
   "cell_type": "markdown",
   "metadata": {},
   "source": [
    "## Curate Dataset"
   ]
  },
  {
   "cell_type": "code",
   "execution_count": 2,
   "metadata": {},
   "outputs": [
    {
     "name": "stderr",
     "output_type": "stream",
     "text": [
      "[20:35:54] Warning: ambiguous stereochemistry - overlapping neighbors  - at atom 13 ignored\n"
     ]
    },
    {
     "data": {
      "text/html": [
       "<div>\n",
       "<style scoped>\n",
       "    .dataframe tbody tr th:only-of-type {\n",
       "        vertical-align: middle;\n",
       "    }\n",
       "\n",
       "    .dataframe tbody tr th {\n",
       "        vertical-align: top;\n",
       "    }\n",
       "\n",
       "    .dataframe thead th {\n",
       "        text-align: right;\n",
       "    }\n",
       "</style>\n",
       "<table border=\"1\" class=\"dataframe\">\n",
       "  <thead>\n",
       "    <tr style=\"text-align: right;\">\n",
       "      <th></th>\n",
       "      <th>pKa</th>\n",
       "      <th>marvin_pKa</th>\n",
       "      <th>marvin_atom</th>\n",
       "      <th>marvin_pKa_type</th>\n",
       "      <th>original_dataset</th>\n",
       "      <th>ID</th>\n",
       "      <th>ROMol</th>\n",
       "    </tr>\n",
       "  </thead>\n",
       "  <tbody>\n",
       "    <tr>\n",
       "      <th>0</th>\n",
       "      <td>6.21</td>\n",
       "      <td>6.09</td>\n",
       "      <td>10</td>\n",
       "      <td>basic</td>\n",
       "      <td>['chembl25']</td>\n",
       "      <td>1702768</td>\n",
       "      <td>&lt;rdkit.Chem.rdchem.Mol object at 0x7f03a0171b60&gt;</td>\n",
       "    </tr>\n",
       "    <tr>\n",
       "      <th>1</th>\n",
       "      <td>7.46</td>\n",
       "      <td>8.2</td>\n",
       "      <td>9</td>\n",
       "      <td>basic</td>\n",
       "      <td>['chembl25']</td>\n",
       "      <td>273537</td>\n",
       "      <td>&lt;rdkit.Chem.rdchem.Mol object at 0x7f028d153d80&gt;</td>\n",
       "    </tr>\n",
       "    <tr>\n",
       "      <th>2</th>\n",
       "      <td>4.2</td>\n",
       "      <td>3.94</td>\n",
       "      <td>9</td>\n",
       "      <td>basic</td>\n",
       "      <td>['datawarrior']</td>\n",
       "      <td>7175</td>\n",
       "      <td>&lt;rdkit.Chem.rdchem.Mol object at 0x7f028d153df0&gt;</td>\n",
       "    </tr>\n",
       "    <tr>\n",
       "      <th>3</th>\n",
       "      <td>3.73</td>\n",
       "      <td>5.91</td>\n",
       "      <td>8</td>\n",
       "      <td>acidic</td>\n",
       "      <td>['datawarrior']</td>\n",
       "      <td>998</td>\n",
       "      <td>&lt;rdkit.Chem.rdchem.Mol object at 0x7f028d153e60&gt;</td>\n",
       "    </tr>\n",
       "    <tr>\n",
       "      <th>4</th>\n",
       "      <td>11.0</td>\n",
       "      <td>8.94</td>\n",
       "      <td>13</td>\n",
       "      <td>basic</td>\n",
       "      <td>['chembl25']</td>\n",
       "      <td>560562</td>\n",
       "      <td>&lt;rdkit.Chem.rdchem.Mol object at 0x7f028d153ed0&gt;</td>\n",
       "    </tr>\n",
       "  </tbody>\n",
       "</table>\n",
       "</div>"
      ],
      "text/plain": [
       "    pKa marvin_pKa marvin_atom marvin_pKa_type original_dataset       ID  \\\n",
       "0  6.21       6.09          10           basic     ['chembl25']  1702768   \n",
       "1  7.46        8.2           9           basic     ['chembl25']   273537   \n",
       "2   4.2       3.94           9           basic  ['datawarrior']     7175   \n",
       "3  3.73       5.91           8          acidic  ['datawarrior']      998   \n",
       "4  11.0       8.94          13           basic     ['chembl25']   560562   \n",
       "\n",
       "                                              ROMol  \n",
       "0  <rdkit.Chem.rdchem.Mol object at 0x7f03a0171b60>  \n",
       "1  <rdkit.Chem.rdchem.Mol object at 0x7f028d153d80>  \n",
       "2  <rdkit.Chem.rdchem.Mol object at 0x7f028d153df0>  \n",
       "3  <rdkit.Chem.rdchem.Mol object at 0x7f028d153e60>  \n",
       "4  <rdkit.Chem.rdchem.Mol object at 0x7f028d153ed0>  "
      ]
     },
     "execution_count": 2,
     "metadata": {},
     "output_type": "execute_result"
    }
   ],
   "source": [
    "infile = \"../data/combined_training_datasets_unique.sdf\"\n",
    "name = os.path.splitext(os.path.basename(infile))[0]\n",
    "\n",
    "all_df = PandasTools.LoadSDF(infile)\n",
    "all_df.head()"
   ]
  },
  {
   "cell_type": "code",
   "execution_count": 3,
   "metadata": {},
   "outputs": [],
   "source": [
    "TYPES = [\n",
    "    Chem.rdchem.BondType.SINGLE,\n",
    "    Chem.rdchem.BondType.DOUBLE,\n",
    "    Chem.rdchem.BondType.TRIPLE,\n",
    "    Chem.rdchem.BondType.AROMATIC,\n",
    "    Chem.rdchem.BondType.OTHER,\n",
    "    ]\n",
    "TYPE2DCT = {t: (np.eye(len(TYPES))[idx]).tolist() for idx, t in enumerate(TYPES)}\n",
    "\n",
    "ATOMS = ['C', 'O', 'S', 'N', 'P', 'H', 'F', 'Cl', 'Br', 'I', 'UNK']\n",
    "ATOM2DCT = {ele: (np.eye(len(ATOMS))[idx]).tolist() for idx, ele in enumerate(ATOMS)}\n",
    "HYBRIDS = [Chem.rdchem.HybridizationType.SP,\n",
    "    Chem.rdchem.HybridizationType.SP2,\n",
    "    Chem.rdchem.HybridizationType.SP3,\n",
    "    Chem.rdchem.HybridizationType.SP3D,\n",
    "    Chem.rdchem.HybridizationType.SP3D2,\n",
    "    'UNK']\n",
    "HYBRID2DCT = {ele: (np.eye(len(HYBRIDS))[idx]).tolist() for idx, ele in enumerate(HYBRIDS)}\n",
    "\n",
    "def featurize(mol, readout):\n",
    "    x = []\n",
    "    # preprocess\n",
    "    Chem.Kekulize(mol)\n",
    "    AllChem.ComputeGasteigerCharges(mol)\n",
    "    Chem.AssignStereochemistry(mol)\n",
    "    # embed molecule\n",
    "    mol = Chem.AddHs(mol)\n",
    "    AllChem.EmbedMolecule(mol)\n",
    "    AllChem.MMFFOptimizeMolecule(mol)\n",
    "    pos = mol.GetConformer().GetPositions()\n",
    "    mol = Chem.RemoveHs(mol)\n",
    "    # calculate node features\n",
    "    ring = mol.GetRingInfo()\n",
    "    for idx in range(mol.GetNumAtoms()):\n",
    "        emd = []\n",
    "        at = mol.GetAtomWithIdx(idx)\n",
    "        ele = at.GetSymbol()\n",
    "        ele = ele if ele in ATOMS else 'UNK'\n",
    "        emd += ATOM2DCT[ele]\n",
    "        emd += [at.GetDegree()]\n",
    "        hyb = at.GetHybridization()\n",
    "        hyb = hyb if hyb in HYBRIDS else \"UNK\"\n",
    "        emd += HYBRID2DCT[hyb]\n",
    "        emd += [at.GetImplicitValence()]\n",
    "        emd += [at.GetIsAromatic()]\n",
    "        emd += [ring.IsAtomInRingOfSize(idx, 3),\n",
    "              ring.IsAtomInRingOfSize(idx, 4),\n",
    "              ring.IsAtomInRingOfSize(idx, 5),\n",
    "              ring.IsAtomInRingOfSize(idx, 6),\n",
    "              ring.IsAtomInRingOfSize(idx, 7),\n",
    "              ring.IsAtomInRingOfSize(idx, 8)]\n",
    "        emd += [at.GetFormalCharge()]\n",
    "        x.append(emd)\n",
    "    x = torch.from_numpy(np.array(x))\n",
    "    pos = torch.from_numpy(np.array(pos))\n",
    "    # calculate edges/edge features\n",
    "    bonds = []\n",
    "    types = []\n",
    "    for bond in mol.GetBonds():\n",
    "        idx1 = bond.GetBeginAtomIdx()\n",
    "        idx2 = bond.GetEndAtomIdx()\n",
    "        t = bond.GetBondType()\n",
    "        t = t if t in TYPES else Chem.rdchem.BondType.OTHER\n",
    "        bonds.append([idx1, idx2])\n",
    "        types.append(TYPE2DCT[t])\n",
    "        bonds.append([idx2, idx1])\n",
    "        types.append(TYPE2DCT[t])\n",
    "    # create graph\n",
    "    edge_index = torch.from_numpy(np.array(bonds)).long()\n",
    "    edge_type = torch.from_numpy(np.array(types)).long()\n",
    "    data = Data(x=x, pos=pos, \\\n",
    "        edge_index=edge_index.t().contiguous(), edge_type=edge_type, \n",
    "        y=torch.from_numpy(np.array([readout])))\n",
    "    return data"
   ]
  },
  {
   "cell_type": "code",
   "execution_count": 4,
   "metadata": {},
   "outputs": [],
   "source": [
    "infile = \"../data/combined_training_datasets_unique_graph_training.pkl\"\n",
    "if not os.path.exists(infile):\n",
    "    # data preprocessing is time-consuming\n",
    "    # some molecules would fail to featurize\n",
    "    graph_data = []\n",
    "    for idx, row in all_df.iterrows():\n",
    "        try:\n",
    "            mol = row[\"ROMol\"]\n",
    "            pka = float(row[\"pKa\"])\n",
    "            data = featurize(mol, pka)\n",
    "            graph_data.append(data)\n",
    "        except Exception as e:\n",
    "            print(e)\n",
    "    with open(infile, \"wb\") as file:\n",
    "        pickle.dump(graph_data, file)"
   ]
  },
  {
   "cell_type": "markdown",
   "metadata": {},
   "source": [
    "## Hyperparameters"
   ]
  },
  {
   "cell_type": "code",
   "execution_count": 5,
   "metadata": {},
   "outputs": [],
   "source": [
    "# for reproduce purposes\n",
    "SEED = 0\n",
    "random.seed(SEED)\n",
    "np.random.seed(SEED)\n",
    "\n",
    "datadir = \".\"\n",
    "ratio = 0.1\n",
    "batch_size = 256\n",
    "infile = \"../data/combined_training_datasets_unique_graph_training.pkl\"\n",
    "device = \"cuda\" if torch.cuda.is_available() else \"cpu\""
   ]
  },
  {
   "cell_type": "markdown",
   "metadata": {},
   "source": [
    "## Split dataset"
   ]
  },
  {
   "cell_type": "code",
   "execution_count": 6,
   "metadata": {},
   "outputs": [
    {
     "name": "stderr",
     "output_type": "stream",
     "text": [
      "/home/mxue33/anaconda3/envs/sphinx/lib/python3.10/site-packages/torch/storage.py:414: FutureWarning: You are using `torch.load` with `weights_only=False` (the current default value), which uses the default pickle module implicitly. It is possible to construct malicious pickle data which will execute arbitrary code during unpickling (See https://github.com/pytorch/pytorch/blob/main/SECURITY.md#untrusted-models for more details). In a future release, the default value for `weights_only` will be flipped to `True`. This limits the functions that could be executed during unpickling. Arbitrary objects will no longer be allowed to be loaded via this mode unless they are explicitly allowlisted by the user via `torch.serialization.add_safe_globals`. We recommend you start setting `weights_only=True` for any use case where you don't have full control of the loaded file. Please open an issue on GitHub for any issues related to this experimental feature.\n",
      "  return torch.load(io.BytesIO(b))\n"
     ]
    },
    {
     "name": "stdout",
     "output_type": "stream",
     "text": [
      "Dimension of node feature: 27\n",
      "Number of training samples: 5386\n",
      "Number of validation samples: 598\n"
     ]
    }
   ],
   "source": [
    "if not os.path.exists(infile):\n",
    "    # data preprocessing is time-consuming\n",
    "    # some molecules would fail to featurize\n",
    "    graph_data = []\n",
    "    for idx, row in all_df.iterrows():\n",
    "        try:\n",
    "            mol = row[\"ROMol\"]\n",
    "            pka = float(row[\"pKa\"])\n",
    "            data = featurize(mol, pka)\n",
    "            graph_data.append(data)\n",
    "        except Exception as e:\n",
    "            print(e)\n",
    "    with open(infile, \"wb\") as file:\n",
    "        pickle.dump(graph_data, file)\n",
    "\n",
    "\n",
    "with open(infile, \"rb\") as file:\n",
    "    graph_data = pickle.load(file)\n",
    "\n",
    "num_relations = len(TYPES)\n",
    "nsamples = len(graph_data)\n",
    "val_size = int(nsamples*ratio)\n",
    "val_indices = np.random.choice(nsamples, val_size, replace=False)\n",
    "train_indices = set(range(nsamples)) - set(val_indices.tolist())\n",
    "train_indices = list(train_indices)\n",
    "train_data = [graph_data[idx] for idx in train_indices]\n",
    "test_data = [graph_data[idx] for idx in val_indices]\n",
    "\n",
    "\n",
    "d = train_data[0]\n",
    "ndim = d.x.shape[1]\n",
    "print(f\"Dimension of node feature: {ndim}\")\n",
    "print(f\"Number of training samples: {len(train_data)}\")\n",
    "print(f\"Number of validation samples: {len(test_data)}\")\n",
    "\n",
    "train_loader = DataLoader(train_data, batch_size=batch_size, shuffle=True)\n",
    "test_loader = DataLoader(test_data, batch_size=batch_size, shuffle=False)"
   ]
  },
  {
   "cell_type": "markdown",
   "metadata": {},
   "source": [
    "## Model\n",
    "\n",
    "\n",
    "References:\n",
    "- [Explainable Graph Neural Networks with Data Augmentation for Predicting pKa of C–H Acids](https://pubs.acs.org/doi/10.1021/acs.jcim.3c00958)\n",
    "- [MolGpka: A Web Server for Small Molecule pKa Prediction Using a Graph-Convolutional Neural Network](https://pubs.acs.org/doi/10.1021/acs.jcim.1c00075)\n",
    "- [SchNet](https://arxiv.org/pdf/1706.08566) will be updated in the future to include molecular geometry"
   ]
  },
  {
   "cell_type": "code",
   "execution_count": 7,
   "metadata": {},
   "outputs": [],
   "source": [
    "def train_epoch(dataloader, model, loss_func, optimizer, device):\n",
    "    model.train()\n",
    "    train_loss = []\n",
    "    for data in dataloader:\n",
    "            optimizer.zero_grad()\n",
    "            y_pred = model(data.to(device))\n",
    "            y = data.y.to(device)\n",
    "            loss = loss_func(y_pred.reshape(-1).float(), y.reshape(-1).float())\n",
    "            loss.backward()\n",
    "            optimizer.step()\n",
    "            train_loss.append(loss.detach().cpu().numpy())\n",
    "    return np.mean(train_loss)\n",
    "\n",
    "def val_epoch(dataloader, loss_func, model, device):\n",
    "    model.eval()\n",
    "    val_loss = []\n",
    "    with torch.no_grad():\n",
    "        for data in dataloader:\n",
    "            y_pred = model(data.to(device))\n",
    "            y = data.y.to(device)\n",
    "            loss = loss_func(y_pred.reshape(-1).float(), y.reshape(-1).float())\n",
    "            val_loss.append(loss.detach().cpu().numpy())\n",
    "    return np.mean(val_loss)"
   ]
  },
  {
   "cell_type": "markdown",
   "metadata": {},
   "source": [
    "## Training"
   ]
  },
  {
   "cell_type": "code",
   "execution_count": 8,
   "metadata": {},
   "outputs": [
    {
     "name": "stdout",
     "output_type": "stream",
     "text": [
      "50487\n"
     ]
    }
   ],
   "source": [
    "epochs = 500\n",
    "lr = 5e-3\n",
    "dtype = \"float\"\n",
    "\n",
    "model = Model(ndim=27, hidden_dims=[256, 128, 64, 32], type=dtype)\n",
    "model.to(device)\n",
    "model = model.float() if dtype == \"float\" else model.double()\n",
    "optimizer = torch.optim.Adam(model.parameters(), lr=lr)\n",
    "loss_func = nn.functional.mse_loss\n",
    "print(sum(p.numel() for p in model.parameters() if p.requires_grad))\n",
    "\n",
    "train_epoch_losses, test_epoch_losses = [], []\n",
    "for n in range(epochs):\n",
    "    train_epoch_loss = train_epoch(train_loader, model, loss_func, optimizer, device)\n",
    "    val_epoch_loss = val_epoch(test_loader, loss_func, model, device)\n",
    "    train_epoch_losses.append(train_epoch_loss)\n",
    "    test_epoch_losses.append(val_epoch_loss)"
   ]
  },
  {
   "cell_type": "code",
   "execution_count": 9,
   "metadata": {},
   "outputs": [
    {
     "data": {
      "text/plain": [
       "<matplotlib.legend.Legend at 0x7f028d073d00>"
      ]
     },
     "execution_count": 9,
     "metadata": {},
     "output_type": "execute_result"
    },
    {
     "data": {
      "image/png": "[encoded data removed]",
      "text/plain": [
       "<Figure size 640x480 with 1 Axes>"
      ]
     },
     "metadata": {},
     "output_type": "display_data"
    }
   ],
   "source": [
    "plt.plot(train_epoch_losses, label=\"Train\")\n",
    "plt.plot(test_epoch_losses, label=\"Test\")\n",
    "plt.legend()"
   ]
  },
  {
   "cell_type": "markdown",
   "metadata": {},
   "source": [
    "## Analysis"
   ]
  },
  {
   "cell_type": "code",
   "execution_count": 10,
   "metadata": {},
   "outputs": [
    {
     "name": "stdout",
     "output_type": "stream",
     "text": [
      "tensor(1.4559)\n"
     ]
    },
    {
     "data": {
      "text/plain": [
       "<matplotlib.legend.Legend at 0x7f028d071ae0>"
      ]
     },
     "execution_count": 10,
     "metadata": {},
     "output_type": "execute_result"
    },
    {
     "data": {
      "image/png": "[encoded data removed]",
      "text/plain": [
       "<Figure size 640x480 with 1 Axes>"
      ]
     },
     "metadata": {},
     "output_type": "display_data"
    }
   ],
   "source": [
    "model.eval()\n",
    "\n",
    "truth = []\n",
    "pred = []\n",
    "with torch.no_grad():\n",
    "    for data in test_loader:\n",
    "        y_pred = model(data.to(device))\n",
    "        y = data.y\n",
    "        truth.extend(y.numpy().tolist())\n",
    "        pred.extend(y_pred.detach().numpy().tolist())\n",
    "loss = loss_func(torch.Tensor(pred).reshape(-1), torch.Tensor(truth).reshape(-1))\n",
    "print(loss)\n",
    "\n",
    "xreg = np.linspace(2, 12, num=100)\n",
    "yreg = xreg\n",
    "plt.plot(xreg, yreg, 'r--', label=\"y=x\")\n",
    "plt.scatter(truth, pred)\n",
    "plt.xlabel(\"Truth\")\n",
    "plt.ylabel(\"Prediction\")\n",
    "plt.axis(\"square\")\n",
    "plt.legend()"
   ]
  },
  {
   "cell_type": "code",
   "execution_count": null,
   "metadata": {},
   "outputs": [],
   "source": []
  }
 ],
 "metadata": {
  "kernelspec": {
   "display_name": "sphinx",
   "language": "python",
   "name": "python3"
  },
  "language_info": {
   "codemirror_mode": {
    "name": "ipython",
    "version": 3
   },
   "file_extension": ".py",
   "mimetype": "text/x-python",
   "name": "python",
   "nbconvert_exporter": "python",
   "pygments_lexer": "ipython3",
   "version": "3.10.14"
  }
 },
 "nbformat": 4,
 "nbformat_minor": 2
}
