{
 "cells": [
  {
   "cell_type": "markdown",
   "metadata": {},
   "source": [
    "## Graph Neural Network\n",
    "\n",
    "References:\n",
    "- [Explainable Graph Neural Networks with Data Augmentation for Predicting pKa of C–H Acids](https://pubs.acs.org/doi/10.1021/acs.jcim.3c00958)\n",
    "- [MolGpka: A Web Server for Small Molecule pKa Prediction Using a Graph-Convolutional Neural Network](https://pubs.acs.org/doi/10.1021/acs.jcim.1c00075)"
   ]
  },
  {
   "cell_type": "code",
   "execution_count": 1,
   "metadata": {},
   "outputs": [],
   "source": [
    "import random\n",
    "import pickle\n",
    "import numpy as np\n",
    "import matplotlib.pyplot as plt\n",
    "import torch\n",
    "import torch.nn as nn\n",
    "from torch_geometric.loader import DataLoader\n",
    "from torch_geometric.nn.conv import RGATConv\n",
    "from torch_geometric.nn.pool import global_mean_pool\n",
    "import rdkit.Chem as Chem\n",
    "\n",
    "# for reproduce purposes\n",
    "SEED = 0\n",
    "random.seed(SEED)\n",
    "np.random.seed(SEED)\n",
    "\n",
    "datadir = \".\"\n",
    "infile = \"../data/combined_training_datasets_unique_graph_training.pkl\"\n",
    "ratio = 0.1\n",
    "batch_size = 256\n",
    "device = \"cuda\" if torch.cuda.is_available() else \"cpu\""
   ]
  },
  {
   "cell_type": "markdown",
   "metadata": {},
   "source": [
    "## Load data"
   ]
  },
  {
   "cell_type": "code",
   "execution_count": 2,
   "metadata": {},
   "outputs": [],
   "source": [
    "TYPES = [\n",
    "    Chem.rdchem.BondType.SINGLE,\n",
    "    Chem.rdchem.BondType.DOUBLE,\n",
    "    Chem.rdchem.BondType.TRIPLE,\n",
    "    Chem.rdchem.BondType.AROMATIC,\n",
    "    Chem.rdchem.BondType.OTHER,\n",
    "    ]\n",
    "TYPE2DCT = {t: idx for idx, t in enumerate(TYPES)}\n",
    "\n",
    "ATOMS = ['C', 'O', 'S', 'N', 'P', 'H', 'F', 'Cl', 'Br', 'I', 'UNK']\n",
    "ATOM2DCT = {ele: np.eye(len(ATOMS))[idx] for idx, ele in enumerate(ATOMS)}"
   ]
  },
  {
   "cell_type": "code",
   "execution_count": 3,
   "metadata": {},
   "outputs": [
    {
     "name": "stderr",
     "output_type": "stream",
     "text": [
      "/home/mxue33/anaconda3/envs/sphinx/lib/python3.10/site-packages/torch/storage.py:414: FutureWarning: You are using `torch.load` with `weights_only=False` (the current default value), which uses the default pickle module implicitly. It is possible to construct malicious pickle data which will execute arbitrary code during unpickling (See https://github.com/pytorch/pytorch/blob/main/SECURITY.md#untrusted-models for more details). In a future release, the default value for `weights_only` will be flipped to `True`. This limits the functions that could be executed during unpickling. Arbitrary objects will no longer be allowed to be loaded via this mode unless they are explicitly allowlisted by the user via `torch.serialization.add_safe_globals`. We recommend you start setting `weights_only=True` for any use case where you don't have full control of the loaded file. Please open an issue on GitHub for any issues related to this experimental feature.\n",
      "  return torch.load(io.BytesIO(b))\n"
     ]
    },
    {
     "name": "stdout",
     "output_type": "stream",
     "text": [
      "Number of samples: 5994\n",
      "Dimension of node feature: 11\n",
      "Number of edge types: 5\n"
     ]
    }
   ],
   "source": [
    "with open(infile, \"rb\") as file:\n",
    "    DATA = pickle.load(file)\n",
    "nsamples = len(DATA)\n",
    "print(f\"Number of samples: {nsamples}\")\n",
    "\n",
    "val_size = int(nsamples*ratio)\n",
    "train_data = DATA[:val_size]\n",
    "test_data = DATA[val_size:]\n",
    "\n",
    "d = train_data[0][0]\n",
    "ndim = d.x.shape[1]\n",
    "num_relations = len(TYPES)\n",
    "print(f\"Dimension of node feature: {ndim}\")\n",
    "print(f\"Number of edge types: {num_relations}\")"
   ]
  },
  {
   "cell_type": "markdown",
   "metadata": {},
   "source": [
    "### Graph Batching"
   ]
  },
  {
   "cell_type": "code",
   "execution_count": 4,
   "metadata": {},
   "outputs": [],
   "source": [
    "train_loader = DataLoader(train_data, batch_size=batch_size, shuffle=True)\n",
    "test_loader = DataLoader(test_data, batch_size=batch_size, shuffle=False)"
   ]
  },
  {
   "cell_type": "markdown",
   "metadata": {},
   "source": [
    "## Model"
   ]
  },
  {
   "cell_type": "code",
   "execution_count": 22,
   "metadata": {},
   "outputs": [],
   "source": [
    "class Model(nn.Module):\n",
    "    def __init__(self, ndim, hidden_dims, num_relations, type):\n",
    "        super(Model, self).__init__()\n",
    "        total_dims = [ndim] + hidden_dims\n",
    "        net = []\n",
    "        for i in range(len(total_dims)-1):\n",
    "            net.extend([\n",
    "                RGATConv(total_dims[i], total_dims[i+1], num_relations),\n",
    "                nn.ReLU(),\n",
    "                nn.BatchNorm1d(total_dims[i+1])\n",
    "            ])\n",
    "        self.net = nn.Sequential(*net)\n",
    "        self.fc = nn.Linear(total_dims[-1], 1)\n",
    "        self.type = type\n",
    "        \n",
    "\n",
    "    def forward(self, data):\n",
    "        batch = data.batch\n",
    "        out = data.x\n",
    "        if self.type == \"float\":\n",
    "            out = out.float()\n",
    "        elif self.type == \"double\":\n",
    "            out = out.double()\n",
    "        else:\n",
    "            raise TypeError(f\"{self.type} not supported\")\n",
    "        edge_index = data.edge_index.long()\n",
    "        edge_type = data.edge_type.long()\n",
    "        for idx in range(len(self.net)//3):\n",
    "            out = self.net[3*idx](out, edge_index, edge_type)\n",
    "            out = self.net[3*idx+1](out)\n",
    "            out = self.net[3*idx+2](out)\n",
    "        out = global_mean_pool(out, batch)\n",
    "        out = self.fc(out)\n",
    "        return out"
   ]
  },
  {
   "cell_type": "code",
   "execution_count": 23,
   "metadata": {},
   "outputs": [],
   "source": [
    "def train_epoch(dataloader, model, loss_func, optimizer, device):\n",
    "    model.train()\n",
    "    train_loss = []\n",
    "    for (x, y) in dataloader:\n",
    "            x, y = x.to(device), y.to(device)\n",
    "            optimizer.zero_grad()\n",
    "            y_pred = model(x)\n",
    "            loss = loss_func(y_pred, y)\n",
    "            loss.backward()\n",
    "            optimizer.step()\n",
    "            train_loss.append(loss.detach().cpu().numpy())\n",
    "    return np.mean(train_loss)\n",
    "\n",
    "def val_epoch(dataloader, loss_func, model, device):\n",
    "    model.eval()\n",
    "    val_loss = []\n",
    "    with torch.no_grad():\n",
    "        for (x, y) in dataloader:\n",
    "            x, y = x.to(device), y.to(device)\n",
    "            y_pred = model(x)\n",
    "            loss = loss_func(y_pred, y)\n",
    "            val_loss.append(loss.detach().cpu().numpy())\n",
    "    return np.mean(val_loss)"
   ]
  },
  {
   "cell_type": "markdown",
   "metadata": {},
   "source": [
    "## Training"
   ]
  },
  {
   "cell_type": "code",
   "execution_count": 24,
   "metadata": {},
   "outputs": [],
   "source": [
    "epochs = 20\n",
    "lr = 1e-2\n",
    "dtype = \"float\"\n",
    "model = Model(ndim, hidden_dims=[100, 50, 20], num_relations=num_relations, type=dtype)\n",
    "model.to(device)\n",
    "model = model.float() if dtype == \"float\" else model.double()\n",
    "optimizer = torch.optim.Adam(model.parameters(), lr=lr)\n",
    "loss_func = nn.functional.mse_loss\n",
    "\n",
    "train_epoch_losses, test_epoch_losses = [], []\n",
    "for n in range(epochs):\n",
    "    train_epoch_loss = train_epoch(train_loader, model, loss_func, optimizer, device)\n",
    "    val_epoch_loss = val_epoch(test_loader, loss_func, model, device)\n",
    "    train_epoch_losses.append(train_epoch_loss)\n",
    "    test_epoch_losses.append(val_epoch_loss)"
   ]
  },
  {
   "cell_type": "code",
   "execution_count": 18,
   "metadata": {},
   "outputs": [
    {
     "data": {
      "text/plain": [
       "<matplotlib.legend.Legend at 0x7f1fa1f4cb20>"
      ]
     },
     "execution_count": 18,
     "metadata": {},
     "output_type": "execute_result"
    },
    {
     "data": {
      "image/png": "[encoded data removed]",
      "text/plain": [
       "<Figure size 640x480 with 1 Axes>"
      ]
     },
     "metadata": {},
     "output_type": "display_data"
    }
   ],
   "source": [
    "plt.plot(train_epoch_losses, label=\"Train\")\n",
    "plt.plot(test_epoch_losses, label=\"Test\")\n",
    "plt.legend()"
   ]
  },
  {
   "cell_type": "markdown",
   "metadata": {},
   "source": [
    "## Analysis"
   ]
  },
  {
   "cell_type": "code",
   "execution_count": 14,
   "metadata": {},
   "outputs": [
    {
     "name": "stdout",
     "output_type": "stream",
     "text": [
      "tensor(4.7215)\n"
     ]
    },
    {
     "data": {
      "text/plain": [
       "<matplotlib.legend.Legend at 0x7f1fa27bbf40>"
      ]
     },
     "execution_count": 14,
     "metadata": {},
     "output_type": "execute_result"
    },
    {
     "data": {
      "image/png": "[encoded data removed]",
      "text/plain": [
       "<Figure size 640x480 with 1 Axes>"
      ]
     },
     "metadata": {},
     "output_type": "display_data"
    }
   ],
   "source": [
    "model.eval()\n",
    "\n",
    "truth = []\n",
    "pred = []\n",
    "with torch.no_grad():\n",
    "    for (x, y) in test_loader:\n",
    "        x, y = x.to(device), y.to(device)\n",
    "        y_pred = model(x)\n",
    "        truth.extend(y.cpu().numpy().tolist())\n",
    "        pred.extend(y_pred.cpu().numpy().tolist())\n",
    "loss = loss_func(torch.Tensor(pred), torch.Tensor(truth))\n",
    "print(loss)\n",
    "\n",
    "xreg = np.linspace(2, 12, num=100)\n",
    "yreg = xreg\n",
    "plt.plot(xreg, yreg, 'r--', label=\"y=x\")\n",
    "plt.scatter(truth, pred)\n",
    "plt.xlabel(\"Truth\")\n",
    "plt.ylabel(\"Prediction\")\n",
    "plt.axis(\"square\")\n",
    "plt.legend()"
   ]
  },
  {
   "cell_type": "code",
   "execution_count": null,
   "metadata": {},
   "outputs": [],
   "source": []
  }
 ],
 "metadata": {
  "kernelspec": {
   "display_name": "sphinx",
   "language": "python",
   "name": "python3"
  },
  "language_info": {
   "codemirror_mode": {
    "name": "ipython",
    "version": 3
   },
   "file_extension": ".py",
   "mimetype": "text/x-python",
   "name": "python",
   "nbconvert_exporter": "python",
   "pygments_lexer": "ipython3",
   "version": "3.10.14"
  }
 },
 "nbformat": 4,
 "nbformat_minor": 2
}
