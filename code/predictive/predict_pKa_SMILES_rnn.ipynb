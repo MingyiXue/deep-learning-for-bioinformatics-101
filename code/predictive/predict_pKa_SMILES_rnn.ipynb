{
 "cells": [
  {
   "cell_type": "markdown",
   "metadata": {},
   "source": [
    "## Import Packages"
   ]
  },
  {
   "cell_type": "code",
   "execution_count": 1,
   "metadata": {},
   "outputs": [],
   "source": [
    "import os\n",
    "import pickle\n",
    "import rdkit.Chem as Chem\n",
    "import rdkit.Chem.AllChem as AllChem\n",
    "from rdkit.Chem import PandasTools\n",
    "\n",
    "import random\n",
    "import pickle\n",
    "import numpy as np\n",
    "import matplotlib.pyplot as plt\n",
    "import torch\n",
    "import torch.nn as nn\n",
    "from torch.utils.data import Dataset, DataLoader\n",
    "\n",
    "import sys\n",
    "curr_dir = os.path.abspath(\".\")\n",
    "util_dir = os.path.join(os.path.dirname(curr_dir))\n",
    "sys.path.append(util_dir)\n",
    "from utils.rnn_models import SMILESModel as Model\n",
    "from utils.rnn_models import Tokenizer"
   ]
  },
  {
   "cell_type": "markdown",
   "metadata": {},
   "source": [
    "## Curate Dataset"
   ]
  },
  {
   "cell_type": "markdown",
   "metadata": {},
   "source": [
    "<!-- - The vocabulary of SMILES is downloaded from [DeepChem vocab](https://github.com/deepchem/deepchem/blob/2.4.0/deepchem/feat/tests/data/vocab.txt) -->\n",
    "- The convertion from SMILES to molecule is unique but not vice versa. SMILES augmentation is usually required to learn non-canonical SMILES. As a result, instead of writing SMILES strings to files, we designed a `pytorch.utils.data.Dataset` to sample various SMILES for a single molecule on the fly during training."
   ]
  },
  {
   "cell_type": "code",
   "execution_count": 2,
   "metadata": {},
   "outputs": [],
   "source": [
    "class SMILESDataset(Dataset):\n",
    "    def __init__(self, df, augment=True):\n",
    "        self.all_df = df\n",
    "        self.augment = augment\n",
    "\n",
    "    def _featurize(self, mol):\n",
    "        smi = Chem.MolToSmiles(mol, doRandom=self.augment)\n",
    "        return smi\n",
    "    \n",
    "    def __getitem__(self, idx):\n",
    "        mol = self.all_df.iloc[idx][\"ROMol\"]\n",
    "        smi = self._featurize(mol)\n",
    "        pka = self.all_df.iloc[idx][\"pKa\"]\n",
    "        return smi, float(pka)\n",
    "    \n",
    "    def __len__(self):\n",
    "        return self.all_df.shape[0]\n",
    "\n",
    "\n",
    "class Collate:\n",
    "    def __init__(self, tokenizer):\n",
    "        self.tokenizer = tokenizer\n",
    "        \n",
    "    def collate(self, data):\n",
    "        smis = [smi for smi, pka in data]\n",
    "        max_len = max([len(smi) for smi in smis])\n",
    "        padded_smis = [list(smi)+[\"PAD\"]*(max_len-len(smi)) for smi in smis]\n",
    "        X = [self.tokenizer.encode(smi) for smi in padded_smis]\n",
    "        X = torch.Tensor(X).long()\n",
    "        Y = torch.Tensor([pka for smi, pka in data]).reshape(-1, 1).float()\n",
    "        return X, Y"
   ]
  },
  {
   "cell_type": "code",
   "execution_count": 3,
   "metadata": {},
   "outputs": [
    {
     "name": "stderr",
     "output_type": "stream",
     "text": [
      "[22:51:23] Warning: ambiguous stereochemistry - overlapping neighbors  - at atom 13 ignored\n"
     ]
    },
    {
     "name": "stdout",
     "output_type": "stream",
     "text": [
      "['PAD', 'UNK', 'Br', 'Cl', 'H', 'N', 'O', 'S', 'P', 'F', 'I', 'b', 'c', 'n', 'o', 's', 'p', '[', ']', '(', ')', '.', ' ', '=', '#', '+', '-', ':', '~', '@', '*', '%', '/', '\\\\', '0', '1', '2', '3', '4', '5', '6', '7', '8', '9']\n"
     ]
    }
   ],
   "source": [
    "infile = \"../data/combined_training_datasets_unique.sdf\"\n",
    "all_df = PandasTools.LoadSDF(infile)\n",
    "name = os.path.splitext(os.path.basename(infile))[0]\n",
    "tokenizer = Tokenizer()\n",
    "print(tokenizer.vocab)"
   ]
  },
  {
   "cell_type": "markdown",
   "metadata": {},
   "source": [
    "## Hyperparameters"
   ]
  },
  {
   "cell_type": "code",
   "execution_count": 4,
   "metadata": {},
   "outputs": [],
   "source": [
    "# for reproduce purposes\n",
    "SEED = 0\n",
    "random.seed(SEED)\n",
    "np.random.seed(SEED)\n",
    "torch.manual_seed(SEED)\n",
    "\n",
    "datadir = \".\"\n",
    "ratio = 0.1\n",
    "batch_size = 256\n",
    "augment = True\n",
    "vocab_size = len(tokenizer.vocab)\n",
    "device = \"cuda\" if torch.cuda.is_available() else \"cpu\""
   ]
  },
  {
   "cell_type": "markdown",
   "metadata": {},
   "source": [
    "## Split Dataset"
   ]
  },
  {
   "cell_type": "code",
   "execution_count": 5,
   "metadata": {},
   "outputs": [
    {
     "name": "stdout",
     "output_type": "stream",
     "text": [
      "Number of samples: 5994\n",
      "Size of training set: 5395, Size of test set: 599\n"
     ]
    }
   ],
   "source": [
    "# split\n",
    "nsamples = all_df.shape[0]\n",
    "\n",
    "print(f\"Number of samples: {nsamples}\")\n",
    "val_size = int(nsamples*ratio)\n",
    "val_size = int(nsamples*ratio)\n",
    "val_indices = np.random.choice(nsamples, val_size, replace=False)\n",
    "train_indices = set(range(nsamples)) - set(val_indices.tolist())\n",
    "train_indices = list(train_indices)\n",
    "\n",
    "df_train = all_df.iloc[train_indices]\n",
    "df_test = all_df.iloc[val_indices]\n",
    "print(f\"Size of training set: {df_train.shape[0]}, Size of test set: {df_test.shape[0]}\")\n",
    "## batching\n",
    "instance = Collate(tokenizer)\n",
    "collate_fn = instance.collate\n",
    "train_loader = DataLoader(SMILESDataset(df_train, augment), \\\n",
    "    batch_size=batch_size, shuffle=True, collate_fn=collate_fn)\n",
    "test_loader = DataLoader(SMILESDataset(df_test, augment), \\\n",
    "    batch_size=batch_size, shuffle=False, collate_fn=collate_fn)"
   ]
  },
  {
   "cell_type": "markdown",
   "metadata": {},
   "source": [
    "## Model"
   ]
  },
  {
   "cell_type": "code",
   "execution_count": 6,
   "metadata": {},
   "outputs": [],
   "source": [
    "def train_epoch(dataloader, model, clip, loss_func, optimizer, device):\n",
    "    model.train()\n",
    "    train_loss = []\n",
    "    for (x, y) in dataloader:\n",
    "            x, y = x.to(device), y.to(device)\n",
    "            optimizer.zero_grad()\n",
    "            y_pred = model(x)\n",
    "            loss = loss_func(y_pred, y)\n",
    "            loss.backward()\n",
    "            nn.utils.clip_grad_norm_(model.parameters(), clip)\n",
    "            optimizer.step()\n",
    "            train_loss.append(loss.detach().cpu().numpy())\n",
    "    return np.mean(train_loss)\n",
    "\n",
    "def val_epoch(dataloader, loss_func, model, device):\n",
    "    model.eval()\n",
    "    val_loss = []\n",
    "    with torch.no_grad():\n",
    "        for (x, y) in dataloader:\n",
    "            x, y = x.to(device), y.to(device)\n",
    "            y_pred = model(x)\n",
    "            loss = loss_func(y_pred, y)\n",
    "            val_loss.append(loss.detach().cpu().numpy())\n",
    "    return np.mean(val_loss)"
   ]
  },
  {
   "cell_type": "markdown",
   "metadata": {},
   "source": [
    "## Training"
   ]
  },
  {
   "cell_type": "code",
   "execution_count": 14,
   "metadata": {},
   "outputs": [],
   "source": [
    "epochs = 20\n",
    "lr = 1e-4\n",
    "emb_dim = 16\n",
    "hidden_dim = 32\n",
    "dropout = 0.3\n",
    "n_layers = 3\n",
    "clip = 5\n",
    "model = Model(vocab_size, emb_dim, hidden_dim, n_layers, dropout=dropout, bidirectional=True)\n",
    "\n",
    "model.to(device)\n",
    "optimizer = torch.optim.Adam(model.parameters(), lr=lr)\n",
    "loss_func = nn.functional.mse_loss\n",
    "\n",
    "train_epoch_losses, test_epoch_losses = [], []\n",
    "for n in range(epochs):\n",
    "    train_epoch_loss = train_epoch(train_loader, model, clip, loss_func, optimizer, device)\n",
    "    val_epoch_loss = val_epoch(test_loader, loss_func, model, device)\n",
    "    train_epoch_losses.append(train_epoch_loss)\n",
    "    test_epoch_losses.append(val_epoch_loss)"
   ]
  },
  {
   "cell_type": "code",
   "execution_count": 18,
   "metadata": {},
   "outputs": [
    {
     "data": {
      "text/plain": [
       "<matplotlib.legend.Legend at 0x7f08699a51e0>"
      ]
     },
     "execution_count": 18,
     "metadata": {},
     "output_type": "execute_result"
    },
    {
     "data": {
      "image/png": "[encoded data removed]",
      "text/plain": [
       "<Figure size 640x480 with 1 Axes>"
      ]
     },
     "metadata": {},
     "output_type": "display_data"
    }
   ],
   "source": [
    "plt.plot(train_epoch_losses, label=\"Train\")\n",
    "plt.plot(test_epoch_losses, label=\"Test\")\n",
    "plt.legend()"
   ]
  },
  {
   "cell_type": "code",
   "execution_count": 17,
   "metadata": {},
   "outputs": [],
   "source": [
    "for n in range(10):\n",
    "    train_epoch_loss = train_epoch(train_loader, model, clip, loss_func, optimizer, device)\n",
    "    val_epoch_loss = val_epoch(test_loader, loss_func, model, device)\n",
    "    train_epoch_losses.append(train_epoch_loss)\n",
    "    test_epoch_losses.append(val_epoch_loss)"
   ]
  },
  {
   "cell_type": "markdown",
   "metadata": {},
   "source": [
    "## Analysis"
   ]
  },
  {
   "cell_type": "code",
   "execution_count": 19,
   "metadata": {},
   "outputs": [
    {
     "name": "stdout",
     "output_type": "stream",
     "text": [
      "tensor(6.0579)\n"
     ]
    },
    {
     "data": {
      "text/plain": [
       "<matplotlib.legend.Legend at 0x7f08717090f0>"
      ]
     },
     "execution_count": 19,
     "metadata": {},
     "output_type": "execute_result"
    },
    {
     "data": {
      "image/png": "[encoded data removed]",
      "text/plain": [
       "<Figure size 640x480 with 1 Axes>"
      ]
     },
     "metadata": {},
     "output_type": "display_data"
    }
   ],
   "source": [
    "model.eval()\n",
    "with torch.no_grad():\n",
    "    truth = []\n",
    "    pred = []\n",
    "    for idx, row in df_test.iterrows():\n",
    "        mol = row[\"ROMol\"]\n",
    "        y = float(row[\"pKa\"])\n",
    "        smi = Chem.MolToSmiles(mol, doRandom=True)\n",
    "        tensor = torch.Tensor(tokenizer.encode(smi)).reshape(1, -1)\n",
    "        p = model(tensor.long())\n",
    "        pred.append(p)\n",
    "        truth.append(y)\n",
    "    l = nn.functional.mse_loss(torch.Tensor(pred).float(), torch.Tensor(truth).float())\n",
    "    print(l)\n",
    "\n",
    "xreg = np.linspace(2, 12, num=100)\n",
    "yreg = xreg\n",
    "plt.plot(xreg, yreg, 'r--', label=\"y=x\")\n",
    "plt.scatter(truth, pred)\n",
    "plt.xlabel(\"Truth\")\n",
    "plt.ylabel(\"Prediction\")\n",
    "plt.axis(\"square\")\n",
    "plt.legend()"
   ]
  },
  {
   "cell_type": "code",
   "execution_count": null,
   "metadata": {},
   "outputs": [],
   "source": []
  },
  {
   "cell_type": "code",
   "execution_count": null,
   "metadata": {},
   "outputs": [],
   "source": []
  }
 ],
 "metadata": {
  "kernelspec": {
   "display_name": "sphinx",
   "language": "python",
   "name": "python3"
  },
  "language_info": {
   "codemirror_mode": {
    "name": "ipython",
    "version": 3
   },
   "file_extension": ".py",
   "mimetype": "text/x-python",
   "name": "python",
   "nbconvert_exporter": "python",
   "pygments_lexer": "ipython3",
   "version": "3.10.14"
  }
 },
 "nbformat": 4,
 "nbformat_minor": 2
}
