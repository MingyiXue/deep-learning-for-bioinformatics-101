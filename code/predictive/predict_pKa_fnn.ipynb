{
 "cells": [
  {
   "cell_type": "markdown",
   "metadata": {},
   "source": [
    "## Prepare Environment"
   ]
  },
  {
   "cell_type": "code",
   "execution_count": 1,
   "metadata": {},
   "outputs": [],
   "source": [
    "# mkdir -p data/\n",
    "# !wget https://github.com/MingyiXue/deep-learning-for-bioinformatics-101/tree/develop/code/data/combined_training_datasets_unique.sdf\n",
    "# !wget https://github.com/MingyiXue/deep-learning-for-bioinformatics-101/tree/develop/.binder/requirements.txt\n",
    "# !pip install -r requirements.txt"
   ]
  },
  {
   "cell_type": "markdown",
   "metadata": {},
   "source": [
    "## Import Packages"
   ]
  },
  {
   "cell_type": "code",
   "execution_count": 2,
   "metadata": {},
   "outputs": [],
   "source": [
    "import os\n",
    "import pickle\n",
    "import rdkit.Chem as Chem\n",
    "import rdkit.Chem.AllChem as AllChem\n",
    "from rdkit.Chem import PandasTools\n",
    "import rdkit.Chem.Fragments as Fragments\n",
    "\n",
    "import random\n",
    "import numpy as np\n",
    "import matplotlib.pyplot as plt\n",
    "import torch\n",
    "import torch.nn as nn\n",
    "from torch.utils.data import TensorDataset, DataLoader\n",
    "\n",
    "import sys\n",
    "curr_dir = os.path.abspath(\".\")\n",
    "util_dir = os.path.join(os.path.dirname(curr_dir))\n",
    "sys.path.append(util_dir)\n",
    "from utils.fnn_models import FCNNModel as Model"
   ]
  },
  {
   "cell_type": "markdown",
   "metadata": {},
   "source": [
    "## Curate Dataset"
   ]
  },
  {
   "cell_type": "code",
   "execution_count": 3,
   "metadata": {},
   "outputs": [
    {
     "name": "stderr",
     "output_type": "stream",
     "text": [
      "[19:36:31] Warning: ambiguous stereochemistry - overlapping neighbors  - at atom 13 ignored\n"
     ]
    },
    {
     "data": {
      "text/html": [
       "<div>\n",
       "<style scoped>\n",
       "    .dataframe tbody tr th:only-of-type {\n",
       "        vertical-align: middle;\n",
       "    }\n",
       "\n",
       "    .dataframe tbody tr th {\n",
       "        vertical-align: top;\n",
       "    }\n",
       "\n",
       "    .dataframe thead th {\n",
       "        text-align: right;\n",
       "    }\n",
       "</style>\n",
       "<table border=\"1\" class=\"dataframe\">\n",
       "  <thead>\n",
       "    <tr style=\"text-align: right;\">\n",
       "      <th></th>\n",
       "      <th>pKa</th>\n",
       "      <th>marvin_pKa</th>\n",
       "      <th>marvin_atom</th>\n",
       "      <th>marvin_pKa_type</th>\n",
       "      <th>original_dataset</th>\n",
       "      <th>ID</th>\n",
       "      <th>ROMol</th>\n",
       "    </tr>\n",
       "  </thead>\n",
       "  <tbody>\n",
       "    <tr>\n",
       "      <th>0</th>\n",
       "      <td>6.21</td>\n",
       "      <td>6.09</td>\n",
       "      <td>10</td>\n",
       "      <td>basic</td>\n",
       "      <td>['chembl25']</td>\n",
       "      <td>1702768</td>\n",
       "      <td>&lt;rdkit.Chem.rdchem.Mol object at 0x7f1f0cf81bd0&gt;</td>\n",
       "    </tr>\n",
       "    <tr>\n",
       "      <th>1</th>\n",
       "      <td>7.46</td>\n",
       "      <td>8.2</td>\n",
       "      <td>9</td>\n",
       "      <td>basic</td>\n",
       "      <td>['chembl25']</td>\n",
       "      <td>273537</td>\n",
       "      <td>&lt;rdkit.Chem.rdchem.Mol object at 0x7f1e230c1a80&gt;</td>\n",
       "    </tr>\n",
       "    <tr>\n",
       "      <th>2</th>\n",
       "      <td>4.2</td>\n",
       "      <td>3.94</td>\n",
       "      <td>9</td>\n",
       "      <td>basic</td>\n",
       "      <td>['datawarrior']</td>\n",
       "      <td>7175</td>\n",
       "      <td>&lt;rdkit.Chem.rdchem.Mol object at 0x7f1e230c0820&gt;</td>\n",
       "    </tr>\n",
       "    <tr>\n",
       "      <th>3</th>\n",
       "      <td>3.73</td>\n",
       "      <td>5.91</td>\n",
       "      <td>8</td>\n",
       "      <td>acidic</td>\n",
       "      <td>['datawarrior']</td>\n",
       "      <td>998</td>\n",
       "      <td>&lt;rdkit.Chem.rdchem.Mol object at 0x7f1e230c26c0&gt;</td>\n",
       "    </tr>\n",
       "    <tr>\n",
       "      <th>4</th>\n",
       "      <td>11.0</td>\n",
       "      <td>8.94</td>\n",
       "      <td>13</td>\n",
       "      <td>basic</td>\n",
       "      <td>['chembl25']</td>\n",
       "      <td>560562</td>\n",
       "      <td>&lt;rdkit.Chem.rdchem.Mol object at 0x7f1e230c17e0&gt;</td>\n",
       "    </tr>\n",
       "  </tbody>\n",
       "</table>\n",
       "</div>"
      ],
      "text/plain": [
       "    pKa marvin_pKa marvin_atom marvin_pKa_type original_dataset       ID  \\\n",
       "0  6.21       6.09          10           basic     ['chembl25']  1702768   \n",
       "1  7.46        8.2           9           basic     ['chembl25']   273537   \n",
       "2   4.2       3.94           9           basic  ['datawarrior']     7175   \n",
       "3  3.73       5.91           8          acidic  ['datawarrior']      998   \n",
       "4  11.0       8.94          13           basic     ['chembl25']   560562   \n",
       "\n",
       "                                              ROMol  \n",
       "0  <rdkit.Chem.rdchem.Mol object at 0x7f1f0cf81bd0>  \n",
       "1  <rdkit.Chem.rdchem.Mol object at 0x7f1e230c1a80>  \n",
       "2  <rdkit.Chem.rdchem.Mol object at 0x7f1e230c0820>  \n",
       "3  <rdkit.Chem.rdchem.Mol object at 0x7f1e230c26c0>  \n",
       "4  <rdkit.Chem.rdchem.Mol object at 0x7f1e230c17e0>  "
      ]
     },
     "execution_count": 3,
     "metadata": {},
     "output_type": "execute_result"
    }
   ],
   "source": [
    "infile = \"../data/combined_training_datasets_unique.sdf\"\n",
    "name = os.path.splitext(os.path.basename(infile))[0]\n",
    "\n",
    "all_df = PandasTools.LoadSDF(infile)\n",
    "all_df.head()"
   ]
  },
  {
   "cell_type": "code",
   "execution_count": 4,
   "metadata": {},
   "outputs": [
    {
     "name": "stdout",
     "output_type": "stream",
     "text": [
      "Number of fragment patterns: 85\n"
     ]
    }
   ],
   "source": [
    "outfile = f\"../data/{name}_training.npy\"\n",
    "patterns = []\n",
    "for patstr in dir(Chem.Fragments):\n",
    "    if patstr.startswith(\"fr\"):\n",
    "        patterns.append(patstr)\n",
    "print(f\"Number of fragment patterns: {len(patterns)}\")\n",
    "\n",
    "PATTERNS = [getattr(Fragments, patstr) for patstr in patterns]\n",
    "\n",
    "def featurize(mol):\n",
    "    counts = [pattern(mol) for pattern in PATTERNS]\n",
    "    return counts\n",
    "\n",
    "X = []\n",
    "Y = []\n",
    "\n",
    "for idx, row in all_df.iterrows():\n",
    "    x = featurize(row[\"ROMol\"])\n",
    "    X.append(x)\n",
    "    Y.append(row[\"pKa\"])\n",
    "X = np.array(X, dtype=float)\n",
    "Y = np.array(Y, dtype=float).reshape(-1, 1)\n",
    "\n",
    "np.save(outfile, np.hstack([X, Y]))"
   ]
  },
  {
   "cell_type": "markdown",
   "metadata": {},
   "source": [
    "## Fully-Connected Neural Network"
   ]
  },
  {
   "cell_type": "code",
   "execution_count": 5,
   "metadata": {},
   "outputs": [],
   "source": [
    "# for reproduce purposes\n",
    "SEED = 0\n",
    "random.seed(SEED)\n",
    "np.random.seed(SEED)\n",
    "\n",
    "datadir = \".\"\n",
    "infile = \"../data/combined_training_datasets_unique_training.npy\"\n",
    "ratio = 0.1\n",
    "batch_size = 256\n",
    "device = \"cuda\" if torch.cuda.is_available() else \"cpu\""
   ]
  },
  {
   "cell_type": "markdown",
   "metadata": {},
   "source": [
    "## Load data"
   ]
  },
  {
   "cell_type": "code",
   "execution_count": 6,
   "metadata": {},
   "outputs": [
    {
     "name": "stdout",
     "output_type": "stream",
     "text": [
      "Number of samples: 5994, Dimension of features: 85\n",
      "Shape of X: (5994, 85), shape of Y: (5994, 1)\n"
     ]
    }
   ],
   "source": [
    "arr = np.load(infile)\n",
    "X, Y = arr[:, :-1], arr[:, -1]\n",
    "Y = Y.reshape(-1, 1)\n",
    "nsamples = X.shape[0]\n",
    "ndim = X.shape[1]\n",
    "\n",
    "print(f\"Number of samples: {nsamples}, Dimension of features: {ndim}\")\n",
    "print(f\"Shape of X: {X.shape}, shape of Y: {Y.shape}\")"
   ]
  },
  {
   "cell_type": "markdown",
   "metadata": {},
   "source": [
    "## Split dataset"
   ]
  },
  {
   "cell_type": "code",
   "execution_count": 7,
   "metadata": {},
   "outputs": [
    {
     "name": "stdout",
     "output_type": "stream",
     "text": [
      "Size of training set: 5395, Size of test set: 599\n"
     ]
    }
   ],
   "source": [
    "val_size = int(nsamples*ratio)\n",
    "val_indices = np.random.choice(nsamples, val_size, replace=False)\n",
    "train_indices = set(range(nsamples)) - set(val_indices.tolist())\n",
    "train_indices = list(train_indices)\n",
    "X_train, Y_train = X[train_indices], Y[train_indices]\n",
    "X_test, Y_test = X[val_indices], Y[val_indices]\n",
    "print(f\"Size of training set: {X_train.shape[0]}, Size of test set: {X_test.shape[0]}\")\n",
    "\n",
    "X_train = torch.from_numpy(X_train).float()\n",
    "Y_train = torch.from_numpy(Y_train).float()\n",
    "X_test = torch.from_numpy(X_test).float()\n",
    "Y_test = torch.from_numpy(Y_test).float()\n",
    "train_loader = DataLoader(TensorDataset(X_train, Y_train), batch_size=batch_size, shuffle=True)\n",
    "test_loader = DataLoader(TensorDataset(X_test, Y_test), batch_size=batch_size, shuffle=False)"
   ]
  },
  {
   "cell_type": "markdown",
   "metadata": {},
   "source": [
    "## Model"
   ]
  },
  {
   "cell_type": "code",
   "execution_count": 8,
   "metadata": {},
   "outputs": [],
   "source": [
    "def train_epoch(dataloader, model, loss_func, optimizer, device):\n",
    "    model.train()\n",
    "    train_loss = []\n",
    "    for (x, y) in dataloader:\n",
    "            x, y = x.to(device), y.to(device)\n",
    "            optimizer.zero_grad()\n",
    "            y_pred = model(x)\n",
    "            loss = loss_func(y_pred, y)\n",
    "            loss.backward()\n",
    "            optimizer.step()\n",
    "            train_loss.append(loss.detach().cpu().numpy())\n",
    "    return np.mean(train_loss)\n",
    "\n",
    "def val_epoch(dataloader, loss_func, model, device):\n",
    "    model.eval()\n",
    "    val_loss = []\n",
    "    with torch.no_grad():\n",
    "        for (x, y) in dataloader:\n",
    "            x, y = x.to(device), y.to(device)\n",
    "            y_pred = model(x)\n",
    "            loss = loss_func(y_pred, y)\n",
    "            val_loss.append(loss.detach().cpu().numpy())\n",
    "    return np.mean(val_loss)"
   ]
  },
  {
   "cell_type": "markdown",
   "metadata": {},
   "source": [
    "## Training"
   ]
  },
  {
   "cell_type": "code",
   "execution_count": 9,
   "metadata": {},
   "outputs": [],
   "source": [
    "epochs = 20\n",
    "lr = 1e-2\n",
    "\n",
    "model = Model(ndim, hidden_dims=[100, 50, 20])\n",
    "# model = Model(ndim, hidden_dims=[]) # This would be a linear model implemented using PyTorch\n",
    "model.to(device)\n",
    "optimizer = torch.optim.Adam(model.parameters(), lr=lr)\n",
    "loss_func = nn.functional.mse_loss\n",
    "\n",
    "train_epoch_losses, test_epoch_losses = [], []\n",
    "for n in range(epochs):\n",
    "    train_epoch_loss = train_epoch(train_loader, model, loss_func, optimizer, device)\n",
    "    val_epoch_loss = val_epoch(test_loader, loss_func, model, device)\n",
    "    train_epoch_losses.append(train_epoch_loss)\n",
    "    test_epoch_losses.append(val_epoch_loss)"
   ]
  },
  {
   "cell_type": "code",
   "execution_count": 10,
   "metadata": {},
   "outputs": [
    {
     "data": {
      "text/plain": [
       "<matplotlib.legend.Legend at 0x7f1e22880f70>"
      ]
     },
     "execution_count": 10,
     "metadata": {},
     "output_type": "execute_result"
    },
    {
     "data": {
      "image/png": "[encoded data removed]",
      "text/plain": [
       "<Figure size 640x480 with 1 Axes>"
      ]
     },
     "metadata": {},
     "output_type": "display_data"
    }
   ],
   "source": [
    "plt.plot(train_epoch_losses, label=\"Train\")\n",
    "plt.plot(test_epoch_losses, label=\"Test\")\n",
    "plt.legend()"
   ]
  },
  {
   "cell_type": "markdown",
   "metadata": {},
   "source": [
    "## Analysis"
   ]
  },
  {
   "cell_type": "code",
   "execution_count": 11,
   "metadata": {},
   "outputs": [
    {
     "name": "stdout",
     "output_type": "stream",
     "text": [
      "tensor(2.0992)\n"
     ]
    },
    {
     "data": {
      "text/plain": [
       "<matplotlib.legend.Legend at 0x7f1ed24bda80>"
      ]
     },
     "execution_count": 11,
     "metadata": {},
     "output_type": "execute_result"
    },
    {
     "data": {
      "image/png": "[encoded data removed]",
      "text/plain": [
       "<Figure size 640x480 with 1 Axes>"
      ]
     },
     "metadata": {},
     "output_type": "display_data"
    }
   ],
   "source": [
    "model.eval()\n",
    "with torch.no_grad():\n",
    "    truth = Y_test\n",
    "    pred = model(X_test)\n",
    "    l = nn.functional.mse_loss(pred, truth)\n",
    "    print(l)\n",
    "\n",
    "xreg = np.linspace(2, 12, num=100)\n",
    "yreg = xreg\n",
    "plt.plot(xreg, yreg, 'r--', label=\"y=x\")\n",
    "plt.scatter(truth, pred)\n",
    "plt.xlabel(\"Truth\")\n",
    "plt.ylabel(\"Prediction\")\n",
    "plt.axis(\"square\")\n",
    "plt.legend()"
   ]
  },
  {
   "cell_type": "code",
   "execution_count": null,
   "metadata": {},
   "outputs": [],
   "source": []
  }
 ],
 "metadata": {
  "kernelspec": {
   "display_name": "sphinx",
   "language": "python",
   "name": "python3"
  },
  "language_info": {
   "codemirror_mode": {
    "name": "ipython",
    "version": 3
   },
   "file_extension": ".py",
   "mimetype": "text/x-python",
   "name": "python",
   "nbconvert_exporter": "python",
   "pygments_lexer": "ipython3",
   "version": "3.10.14"
  }
 },
 "nbformat": 4,
 "nbformat_minor": 2
}
