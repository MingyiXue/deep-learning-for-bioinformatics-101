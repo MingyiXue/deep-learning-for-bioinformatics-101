{
 "cells": [
  {
   "cell_type": "markdown",
   "metadata": {},
   "source": [
    "# Predict pKa using Linear Regression"
   ]
  },
  {
   "cell_type": "markdown",
   "metadata": {},
   "source": [
    "## Import Packages"
   ]
  },
  {
   "cell_type": "code",
   "execution_count": 1,
   "metadata": {},
   "outputs": [],
   "source": [
    "import os\n",
    "import random\n",
    "import numpy as np\n",
    "import matplotlib.pyplot as plt\n",
    "import rdkit.Chem as Chem\n",
    "from rdkit.Chem import PandasTools\n",
    "import rdkit.Chem.Fragments as Fragments"
   ]
  },
  {
   "cell_type": "markdown",
   "metadata": {},
   "source": [
    "## Curate Dataset"
   ]
  },
  {
   "cell_type": "code",
   "execution_count": 2,
   "metadata": {},
   "outputs": [
    {
     "name": "stderr",
     "output_type": "stream",
     "text": [
      "[11:19:13] Warning: ambiguous stereochemistry - overlapping neighbors  - at atom 13 ignored\n"
     ]
    },
    {
     "data": {
      "text/html": [
       "<div>\n",
       "<style scoped>\n",
       "    .dataframe tbody tr th:only-of-type {\n",
       "        vertical-align: middle;\n",
       "    }\n",
       "\n",
       "    .dataframe tbody tr th {\n",
       "        vertical-align: top;\n",
       "    }\n",
       "\n",
       "    .dataframe thead th {\n",
       "        text-align: right;\n",
       "    }\n",
       "</style>\n",
       "<table border=\"1\" class=\"dataframe\">\n",
       "  <thead>\n",
       "    <tr style=\"text-align: right;\">\n",
       "      <th></th>\n",
       "      <th>pKa</th>\n",
       "      <th>marvin_pKa</th>\n",
       "      <th>marvin_atom</th>\n",
       "      <th>marvin_pKa_type</th>\n",
       "      <th>original_dataset</th>\n",
       "      <th>ID</th>\n",
       "      <th>ROMol</th>\n",
       "    </tr>\n",
       "  </thead>\n",
       "  <tbody>\n",
       "    <tr>\n",
       "      <th>0</th>\n",
       "      <td>6.21</td>\n",
       "      <td>6.09</td>\n",
       "      <td>10</td>\n",
       "      <td>basic</td>\n",
       "      <td>['chembl25']</td>\n",
       "      <td>1702768</td>\n",
       "      <td>&lt;rdkit.Chem.rdchem.Mol object at 0x7f0af2f75c40&gt;</td>\n",
       "    </tr>\n",
       "    <tr>\n",
       "      <th>1</th>\n",
       "      <td>7.46</td>\n",
       "      <td>8.2</td>\n",
       "      <td>9</td>\n",
       "      <td>basic</td>\n",
       "      <td>['chembl25']</td>\n",
       "      <td>273537</td>\n",
       "      <td>&lt;rdkit.Chem.rdchem.Mol object at 0x7f0ac84eeb20&gt;</td>\n",
       "    </tr>\n",
       "    <tr>\n",
       "      <th>2</th>\n",
       "      <td>4.2</td>\n",
       "      <td>3.94</td>\n",
       "      <td>9</td>\n",
       "      <td>basic</td>\n",
       "      <td>['datawarrior']</td>\n",
       "      <td>7175</td>\n",
       "      <td>&lt;rdkit.Chem.rdchem.Mol object at 0x7f0ac84eeb90&gt;</td>\n",
       "    </tr>\n",
       "    <tr>\n",
       "      <th>3</th>\n",
       "      <td>3.73</td>\n",
       "      <td>5.91</td>\n",
       "      <td>8</td>\n",
       "      <td>acidic</td>\n",
       "      <td>['datawarrior']</td>\n",
       "      <td>998</td>\n",
       "      <td>&lt;rdkit.Chem.rdchem.Mol object at 0x7f0ac84eec00&gt;</td>\n",
       "    </tr>\n",
       "    <tr>\n",
       "      <th>4</th>\n",
       "      <td>11.0</td>\n",
       "      <td>8.94</td>\n",
       "      <td>13</td>\n",
       "      <td>basic</td>\n",
       "      <td>['chembl25']</td>\n",
       "      <td>560562</td>\n",
       "      <td>&lt;rdkit.Chem.rdchem.Mol object at 0x7f0ac84eec70&gt;</td>\n",
       "    </tr>\n",
       "  </tbody>\n",
       "</table>\n",
       "</div>"
      ],
      "text/plain": [
       "    pKa marvin_pKa marvin_atom marvin_pKa_type original_dataset       ID  \\\n",
       "0  6.21       6.09          10           basic     ['chembl25']  1702768   \n",
       "1  7.46        8.2           9           basic     ['chembl25']   273537   \n",
       "2   4.2       3.94           9           basic  ['datawarrior']     7175   \n",
       "3  3.73       5.91           8          acidic  ['datawarrior']      998   \n",
       "4  11.0       8.94          13           basic     ['chembl25']   560562   \n",
       "\n",
       "                                              ROMol  \n",
       "0  <rdkit.Chem.rdchem.Mol object at 0x7f0af2f75c40>  \n",
       "1  <rdkit.Chem.rdchem.Mol object at 0x7f0ac84eeb20>  \n",
       "2  <rdkit.Chem.rdchem.Mol object at 0x7f0ac84eeb90>  \n",
       "3  <rdkit.Chem.rdchem.Mol object at 0x7f0ac84eec00>  \n",
       "4  <rdkit.Chem.rdchem.Mol object at 0x7f0ac84eec70>  "
      ]
     },
     "execution_count": 2,
     "metadata": {},
     "output_type": "execute_result"
    }
   ],
   "source": [
    "infile = \"../data/combined_training_datasets_unique.sdf\"\n",
    "name = os.path.splitext(os.path.basename(infile))[0]\n",
    "\n",
    "all_df = PandasTools.LoadSDF(infile)\n",
    "all_df.head()"
   ]
  },
  {
   "cell_type": "code",
   "execution_count": 3,
   "metadata": {},
   "outputs": [
    {
     "name": "stdout",
     "output_type": "stream",
     "text": [
      "Number of fragment patterns: 85\n",
      "Shape of X: (5994, 85), shape of Y: (5994, 1)\n"
     ]
    }
   ],
   "source": [
    "patterns = []\n",
    "for patstr in dir(Chem.Fragments):\n",
    "    if patstr.startswith(\"fr\"):\n",
    "        patterns.append(patstr)\n",
    "print(f\"Number of fragment patterns: {len(patterns)}\")\n",
    "\n",
    "PATTERNS = [getattr(Fragments, patstr) for patstr in patterns]\n",
    "\n",
    "def featurize(mol):\n",
    "    counts = [pattern(mol) for pattern in PATTERNS]\n",
    "    return counts\n",
    "\n",
    "X = []\n",
    "Y = []\n",
    "\n",
    "for idx, row in all_df.iterrows():\n",
    "    x = featurize(row[\"ROMol\"])\n",
    "    X.append(x)\n",
    "    Y.append(row[\"pKa\"])\n",
    "X = np.array(X, dtype=float)\n",
    "Y = np.array(Y, dtype=float).reshape(-1, 1)\n",
    "\n",
    "print(f\"Shape of X: {X.shape}, shape of Y: {Y.shape}\")"
   ]
  },
  {
   "cell_type": "markdown",
   "metadata": {},
   "source": [
    "## Linear Regression"
   ]
  },
  {
   "cell_type": "code",
   "execution_count": 4,
   "metadata": {},
   "outputs": [],
   "source": [
    "# for reproduce purposes\n",
    "SEED = 0\n",
    "random.seed(SEED)\n",
    "np.random.seed(SEED)\n",
    "\n",
    "datadir = \".\"\n",
    "ratio = 0.1\n",
    "epochs = 50\n",
    "lr = 1e-5"
   ]
  },
  {
   "cell_type": "markdown",
   "metadata": {},
   "source": [
    "## Split dataset"
   ]
  },
  {
   "cell_type": "code",
   "execution_count": 5,
   "metadata": {},
   "outputs": [
    {
     "name": "stdout",
     "output_type": "stream",
     "text": [
      "Size of training set: 5395, Size of test set: 599\n"
     ]
    }
   ],
   "source": [
    "nsamples = X.shape[0]\n",
    "val_size = int(nsamples*ratio)\n",
    "val_indices = np.random.choice(nsamples, val_size, replace=False)\n",
    "train_indices = set(range(nsamples)) - set(val_indices.tolist())\n",
    "train_indices = list(train_indices)\n",
    "X_train, Y_train = X[train_indices], Y[train_indices]\n",
    "X_test, Y_test = X[val_indices], Y[val_indices]\n",
    "print(f\"Size of training set: {X_train.shape[0]}, Size of test set: {X_test.shape[0]}\")"
   ]
  },
  {
   "cell_type": "markdown",
   "metadata": {},
   "source": [
    "### Normalize dataset"
   ]
  },
  {
   "cell_type": "code",
   "execution_count": 6,
   "metadata": {},
   "outputs": [
    {
     "name": "stdout",
     "output_type": "stream",
     "text": [
      "Number of samples: 5994, Dimension of features: 86\n"
     ]
    }
   ],
   "source": [
    "avg = np.mean(X_train, axis=0)\n",
    "std = np.std(X_train, axis=0)\n",
    "\n",
    "normalized_X_train = np.zeros_like(X_train)\n",
    "normalized_X_test = np.zeros_like(X_test)\n",
    "for i in range(X_train.shape[1]):\n",
    "    if np.isclose(std[i], 0):\n",
    "        normalized_X_train[:, i] = X_train[:, i]\n",
    "        normalized_X_test[:, i] = X_test[:, i]\n",
    "    else:\n",
    "        normalized_X_train[:, i] = (X_train[:, i]-avg[i])/std[i]\n",
    "        normalized_X_test[:, i] = (X_test[:, i]-avg[i])/std[i]\n",
    "\n",
    "# include bias in X\n",
    "\n",
    "X_train = np.hstack([np.ones(normalized_X_train.shape[0]).reshape(-1, 1), normalized_X_train])\n",
    "X_test = np.hstack([np.ones(normalized_X_test.shape[0]).reshape(-1, 1), normalized_X_test])\n",
    "\n",
    "ndim = X_train.shape[1]\n",
    "print(f\"Number of samples: {nsamples}, Dimension of features: {ndim}\")\n"
   ]
  },
  {
   "cell_type": "markdown",
   "metadata": {},
   "source": [
    "## Model"
   ]
  },
  {
   "cell_type": "markdown",
   "metadata": {},
   "source": [
    "### Design model\n",
    "\n",
    "\n",
    "Assumption: For each $\\mathbf{\\textit x}\\in \\mathbb{R}^{N}$, $\\textit y = \\sum_{j=1}^{N} w_{i}*x_{i} + b$, or $\\textit y = \\sum_{j=0}^{N} w_{i}*x_{i}$ if combining `bias` to $\\mathbf{\\textit x}$."
   ]
  },
  {
   "cell_type": "code",
   "execution_count": 7,
   "metadata": {},
   "outputs": [],
   "source": [
    "def model(x, w):\n",
    "    pred = np.dot(x, w)\n",
    "    return pred\n",
    "\n",
    "def loss_fn(pred, truth):\n",
    "    return (pred-truth)**2\n",
    "\n",
    "def grad_fn(x, pred, truth):\n",
    "    dw = 2*(pred-truth)*x\n",
    "    return dw\n",
    "\n",
    "def optimize(w, dw):\n",
    "    w -= lr*dw\n",
    "    return w"
   ]
  },
  {
   "cell_type": "markdown",
   "metadata": {},
   "source": [
    "### Training"
   ]
  },
  {
   "cell_type": "code",
   "execution_count": 8,
   "metadata": {},
   "outputs": [],
   "source": [
    "def run_one_epoch():\n",
    "    global W\n",
    "    losses = []\n",
    "    for idx in range(X_train.shape[0]):\n",
    "        truth = Y_train[idx]\n",
    "        x = X_train[idx]\n",
    "        pred = model(x, W)\n",
    "        l = loss_fn(pred, truth)\n",
    "        dw = grad_fn(x, pred, truth)\n",
    "        W = optimize(W, dw)\n",
    "        losses.append(l)\n",
    "    return np.mean(losses)\n",
    "\n",
    "def evaluate():\n",
    "    global W\n",
    "    losses = []\n",
    "    for idx in range(X_test.shape[0]):\n",
    "        truth = Y_test[idx]\n",
    "        x = X_test[idx]\n",
    "        pred = model(x, W)\n",
    "        l = loss_fn(pred, truth)\n",
    "        losses.append(l)\n",
    "    return np.mean(losses)"
   ]
  },
  {
   "cell_type": "code",
   "execution_count": 9,
   "metadata": {},
   "outputs": [],
   "source": [
    "W = np.zeros(ndim, dtype=float)\n",
    "train_epoch_losses = []\n",
    "test_epoch_losses = []\n",
    "for idx in range(epochs):\n",
    "    l = run_one_epoch()\n",
    "    train_epoch_losses.append(l)\n",
    "    l = evaluate()\n",
    "    test_epoch_losses.append(l)"
   ]
  },
  {
   "cell_type": "code",
   "execution_count": 10,
   "metadata": {},
   "outputs": [
    {
     "data": {
      "text/plain": [
       "<matplotlib.legend.Legend at 0x7f0ac8097b80>"
      ]
     },
     "execution_count": 10,
     "metadata": {},
     "output_type": "execute_result"
    },
    {
     "data": {
      "image/png": "[encoded data removed]",
      "text/plain": [
       "<Figure size 640x480 with 1 Axes>"
      ]
     },
     "metadata": {},
     "output_type": "display_data"
    }
   ],
   "source": [
    "plt.plot(train_epoch_losses, label=\"Train\")\n",
    "plt.plot(test_epoch_losses, label=\"Test\")\n",
    "plt.legend()"
   ]
  },
  {
   "cell_type": "markdown",
   "metadata": {},
   "source": [
    "## Analysis"
   ]
  },
  {
   "cell_type": "code",
   "execution_count": 11,
   "metadata": {},
   "outputs": [
    {
     "name": "stdout",
     "output_type": "stream",
     "text": [
      "2.928089669669956\n"
     ]
    },
    {
     "data": {
      "text/plain": [
       "<matplotlib.legend.Legend at 0x7f0af2607670>"
      ]
     },
     "execution_count": 11,
     "metadata": {},
     "output_type": "execute_result"
    },
    {
     "data": {
      "image/png": "[encoded data removed]",
      "text/plain": [
       "<Figure size 640x480 with 1 Axes>"
      ]
     },
     "metadata": {},
     "output_type": "display_data"
    }
   ],
   "source": [
    "pred, truth = [], []\n",
    "losses = []\n",
    "for idx in range(X_test.shape[0]):\n",
    "    y_hat = model(X_test[idx], W)\n",
    "    y = Y_test[idx]\n",
    "    l = loss_fn(y_hat, y)\n",
    "    pred.append(y_hat)\n",
    "    truth.append(y)\n",
    "    losses.append(l)\n",
    "\n",
    "print(np.mean(losses))\n",
    "\n",
    "xreg = np.linspace(2, 12, num=100)\n",
    "yreg = xreg\n",
    "plt.plot(xreg, yreg, 'r--', label=\"y=x\")\n",
    "plt.scatter(truth, pred)\n",
    "plt.xlabel(\"Truth\")\n",
    "plt.ylabel(\"Prediction\")\n",
    "plt.axis(\"square\")\n",
    "plt.legend()"
   ]
  },
  {
   "cell_type": "code",
   "execution_count": 13,
   "metadata": {},
   "outputs": [
    {
     "name": "stdout",
     "output_type": "stream",
     "text": [
      "Top-10 functional groups sorted by contribution\n",
      "Positive coeff cotributes to basicity, and negative vcoeff contributes to acidity\n",
      "Meanings of fragment names are available at https://github.com/rdkit/rdkit/blob/master/Data/FragmentDescriptors.csv\n",
      "========================================\n",
      "Functional Group\tCoeff\n",
      "fr_quatN\t0.8726475146654439\n",
      "fr_guanido\t0.33352466968694566\n",
      "fr_NH2\t0.3203331451707216\n",
      "fr_ArN\t-0.3108126155559602\n",
      "fr_C_S\t0.30734726340314644\n",
      "fr_COO2\t-0.26740191983779843\n",
      "fr_COO\t-0.2614939896974664\n",
      "fr_Ar_N\t-0.23981072692347344\n",
      "fr_NH0\t-0.23447141199229907\n",
      "fr_phenol_noOrthoHbond\t0.21187116753136884\n"
     ]
    }
   ],
   "source": [
    "sorted_pairs = []\n",
    "for idx in np.argsort(np.abs(W)[1:])[::-1]: \n",
    "    # except bias\n",
    "    sorted_pairs.append((patterns[idx], W[1+idx]))\n",
    "    \n",
    "topk = 10\n",
    "print(f\"Top-{topk} functional groups sorted by contribution\")\n",
    "print(\"Positive coeff cotributes to basicity, and negative vcoeff contributes to acidity\")\n",
    "print(\"Meanings of fragment names are available at https://github.com/rdkit/rdkit/blob/master/Data/FragmentDescriptors.csv\")\n",
    "print(\"=\"*40)\n",
    "print(f\"Functional Group\\tCoeff\")\n",
    "for name, coeff in sorted_pairs[:topk]:\n",
    "    print(f\"{name}\\t{coeff}\")"
   ]
  },
  {
   "cell_type": "code",
   "execution_count": null,
   "metadata": {},
   "outputs": [],
   "source": []
  }
 ],
 "metadata": {
  "kernelspec": {
   "display_name": "Python 3",
   "language": "python",
   "name": "python3"
  },
  "language_info": {
   "codemirror_mode": {
    "name": "ipython",
    "version": 3
   },
   "file_extension": ".py",
   "mimetype": "text/x-python",
   "name": "python",
   "nbconvert_exporter": "python",
   "pygments_lexer": "ipython3",
   "version": "3.10.14"
  }
 },
 "nbformat": 4,
 "nbformat_minor": 2
}
